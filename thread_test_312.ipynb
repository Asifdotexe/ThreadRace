{
 "cells": [
  {
   "cell_type": "code",
   "execution_count": 4,
   "metadata": {},
   "outputs": [
    {
     "name": "stdout",
     "output_type": "stream",
     "text": [
      "Python 3.12.4\n"
     ]
    }
   ],
   "source": [
    "!python --version"
   ]
  },
  {
   "cell_type": "code",
   "execution_count": 16,
   "metadata": {},
   "outputs": [],
   "source": [
    "import time\n",
    "import json\n",
    "import logging\n",
    "import threading"
   ]
  },
  {
   "cell_type": "code",
   "execution_count": 8,
   "metadata": {},
   "outputs": [],
   "source": [
    "logging.basicConfig(filename='312_thread_test.log', level=logging.INFO)"
   ]
  },
  {
   "cell_type": "markdown",
   "metadata": {},
   "source": [
    "## Task 1: Basic Thread Creation and Destruction"
   ]
  },
  {
   "cell_type": "code",
   "execution_count": 9,
   "metadata": {},
   "outputs": [],
   "source": [
    "def thread_task():\n",
    "    pass\n",
    "\n",
    "#TODO: Create a plot showing how the time increases per thread count\n",
    "def test_thread_creation(num_threads: int) -> None:\n",
    "    \"\"\"This function tests the creation and destruction of threads in Python.\n",
    "    :param num_threads: The number of threads to be created and destroyed.\n",
    "    \"\"\"\n",
    "    start_time = time.time()\n",
    "    list_of_threads = []\n",
    "\n",
    "    for _ in range(num_threads):\n",
    "        # creating the thread\n",
    "        thread = threading.Thread(target=thread_task)\n",
    "        list_of_threads.append(thread)\n",
    "        thread.start()\n",
    "\n",
    "    for thread in list_of_threads:\n",
    "        thread.join()\n",
    "\n",
    "    end_time = time.time()\n",
    "    # calculating the time for the thread creation and deletion\n",
    "    duration = end_time - start_time\n",
    "    print(f\"Thread creation and destruction for {num_threads} threads took {duration:.4f} seconds\")\n",
    "    logging.info(f\"Thread Creation Test: {num_threads} threads, Duration: {duration:.4f} secconds\")"
   ]
  },
  {
   "cell_type": "markdown",
   "metadata": {},
   "source": [
    "## Test 2: CPU-bound tasks"
   ]
  },
  {
   "cell_type": "code",
   "execution_count": 10,
   "metadata": {},
   "outputs": [],
   "source": [
    "def cpu_bound_task():\n",
    "    n = 50000\n",
    "    while n > 1:\n",
    "        n -= 1\n",
    "\n",
    "def test_cpu_bound(num_threads):\n",
    "    threads = []\n",
    "    start_time = time.time()\n",
    "    \n",
    "    for _ in range(num_threads):\n",
    "        t = threading.Thread(target=cpu_bound_task)\n",
    "        threads.append(t)\n",
    "        t.start()\n",
    "    \n",
    "    for t in threads:\n",
    "        t.join()\n",
    "    \n",
    "    end_time = time.time()\n",
    "    duration = end_time - start_time\n",
    "    print(f\"CPU-bound task with {num_threads} threads took {duration:.4f} seconds.\")\n",
    "    logging.info(f\"CPU-bound Test: {num_threads} threads, Duration: {duration:.4f} seconds\")\n",
    "    return duration"
   ]
  },
  {
   "cell_type": "markdown",
   "metadata": {},
   "source": [
    "## Test 3: I/O-bound Tasks"
   ]
  },
  {
   "cell_type": "code",
   "execution_count": 11,
   "metadata": {},
   "outputs": [],
   "source": [
    "def io_bound_task():\n",
    "    time.sleep(0.5)\n",
    "\n",
    "def test_io_bound(num_threads):\n",
    "    threads = []\n",
    "    start_time = time.time()\n",
    "    \n",
    "    for _ in range(num_threads):\n",
    "        t = threading.Thread(target=io_bound_task)\n",
    "        threads.append(t)\n",
    "        t.start()\n",
    "    \n",
    "    for t in threads:\n",
    "        t.join()\n",
    "    \n",
    "    end_time = time.time()\n",
    "    duration = end_time - start_time\n",
    "    print(f\"I/O-bound task with {num_threads} threads took {duration:.4f} seconds.\")\n",
    "    logging.info(f\"I/O-bound Test: {num_threads} threads, Duration: {duration:.4f} seconds\")\n",
    "    return duration"
   ]
  },
  {
   "cell_type": "markdown",
   "metadata": {},
   "source": [
    "## Test 4: Mixed Workload (I/O + CPU-bound Tasks)"
   ]
  },
  {
   "cell_type": "code",
   "execution_count": 12,
   "metadata": {},
   "outputs": [],
   "source": [
    "def mixed_task():\n",
    "    # Simulate I/O\n",
    "    time.sleep(0.2)\n",
    "    # Simulate CPU-bound task\n",
    "    n = 10000\n",
    "    while n > 0:\n",
    "        n -= 1\n",
    "\n",
    "def test_mixed_task(num_threads):\n",
    "    threads = []\n",
    "    start_time = time.time()\n",
    "    \n",
    "    for _ in range(num_threads):\n",
    "        t = threading.Thread(target=mixed_task)\n",
    "        threads.append(t)\n",
    "        t.start()\n",
    "    \n",
    "    for t in threads:\n",
    "        t.join()\n",
    "    \n",
    "    end_time = time.time()\n",
    "    duration = end_time - start_time\n",
    "    print(f\"Mixed task with {num_threads} threads took {duration:.4f} seconds.\")\n",
    "    logging.info(f\"Mixed Task Test: {num_threads} threads, Duration: {duration:.4f} seconds\")\n",
    "    return duration"
   ]
  },
  {
   "cell_type": "code",
   "execution_count": 13,
   "metadata": {},
   "outputs": [],
   "source": [
    "def run_and_log_tests(num_threads_list):\n",
    "    results = {\"num_threads\": [], \"test_type\": [], \"duration\": []}\n",
    "\n",
    "    for num_threads in num_threads_list:\n",
    "        # Test Thread Creation\n",
    "        duration = test_thread_creation(num_threads)\n",
    "        results[\"num_threads\"].append(num_threads)\n",
    "        results[\"test_type\"].append(\"Thread Creation\")\n",
    "        results[\"duration\"].append(duration)\n",
    "\n",
    "        # Test CPU-bound\n",
    "        duration = test_cpu_bound(num_threads)\n",
    "        results[\"num_threads\"].append(num_threads)\n",
    "        results[\"test_type\"].append(\"CPU-bound\")\n",
    "        results[\"duration\"].append(duration)\n",
    "\n",
    "        # Test I/O-bound\n",
    "        duration = test_io_bound(num_threads)\n",
    "        results[\"num_threads\"].append(num_threads)\n",
    "        results[\"test_type\"].append(\"I/O-bound\")\n",
    "        results[\"duration\"].append(duration)\n",
    "\n",
    "        # Test Mixed Task\n",
    "        duration = test_mixed_task(num_threads)\n",
    "        results[\"num_threads\"].append(num_threads)\n",
    "        results[\"test_type\"].append(\"Mixed Task\")\n",
    "        results[\"duration\"].append(duration)\n",
    "    \n",
    "    return results\n"
   ]
  },
  {
   "cell_type": "code",
   "execution_count": 14,
   "metadata": {},
   "outputs": [
    {
     "name": "stdout",
     "output_type": "stream",
     "text": [
      "Thread creation and destruction for 1 threads took 0.0030 seconds\n",
      "CPU-bound task with 1 threads took 0.0050 seconds.\n",
      "I/O-bound task with 1 threads took 0.5010 seconds.\n",
      "Mixed task with 1 threads took 0.2033 seconds.\n",
      "Thread creation and destruction for 2 threads took 0.0010 seconds\n",
      "CPU-bound task with 2 threads took 0.0100 seconds.\n",
      "I/O-bound task with 2 threads took 0.5014 seconds.\n",
      "Mixed task with 2 threads took 0.2034 seconds.\n",
      "Thread creation and destruction for 4 threads took 0.0020 seconds\n",
      "CPU-bound task with 4 threads took 0.0219 seconds.\n",
      "I/O-bound task with 4 threads took 0.5021 seconds.\n",
      "Mixed task with 4 threads took 0.2053 seconds.\n",
      "Thread creation and destruction for 8 threads took 0.0037 seconds\n",
      "CPU-bound task with 8 threads took 0.0459 seconds.\n",
      "I/O-bound task with 8 threads took 0.5054 seconds.\n",
      "Mixed task with 8 threads took 0.2095 seconds.\n",
      "Thread creation and destruction for 16 threads took 0.0050 seconds\n",
      "CPU-bound task with 16 threads took 0.0829 seconds.\n",
      "I/O-bound task with 16 threads took 0.5071 seconds.\n",
      "Mixed task with 16 threads took 0.2185 seconds.\n",
      "Thread creation and destruction for 32 threads took 0.0091 seconds\n",
      "CPU-bound task with 32 threads took 0.1538 seconds.\n",
      "I/O-bound task with 32 threads took 0.5141 seconds.\n",
      "Mixed task with 32 threads took 0.2328 seconds.\n",
      "Thread creation and destruction for 64 threads took 0.0190 seconds\n",
      "CPU-bound task with 64 threads took 0.3128 seconds.\n",
      "I/O-bound task with 64 threads took 0.5267 seconds.\n",
      "Mixed task with 64 threads took 0.2616 seconds.\n",
      "Thread creation and destruction for 128 threads took 0.0450 seconds\n",
      "CPU-bound task with 128 threads took 0.7244 seconds.\n",
      "I/O-bound task with 128 threads took 0.5426 seconds.\n",
      "Mixed task with 128 threads took 0.3219 seconds.\n"
     ]
    }
   ],
   "source": [
    "results = run_and_log_tests([1, 2, 4, 8, 16, 32, 64, 128])"
   ]
  },
  {
   "cell_type": "code",
   "execution_count": 17,
   "metadata": {},
   "outputs": [],
   "source": [
    "with open(\"result_312.txt\", \"w\") as file:\n",
    "    json.dump(results, file, indent=4)"
   ]
  }
 ],
 "metadata": {
  "kernelspec": {
   "display_name": "Python 3",
   "language": "python",
   "name": "python3"
  },
  "language_info": {
   "codemirror_mode": {
    "name": "ipython",
    "version": 3
   },
   "file_extension": ".py",
   "mimetype": "text/x-python",
   "name": "python",
   "nbconvert_exporter": "python",
   "pygments_lexer": "ipython3",
   "version": "3.12.4"
  }
 },
 "nbformat": 4,
 "nbformat_minor": 2
}
