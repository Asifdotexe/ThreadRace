{
 "cells": [
  {
   "cell_type": "code",
   "execution_count": 1,
   "metadata": {},
   "outputs": [
    {
     "name": "stdout",
     "output_type": "stream",
     "text": [
      "Python 3.12.4\n"
     ]
    }
   ],
   "source": [
    "!python --version"
   ]
  },
  {
   "cell_type": "code",
   "execution_count": 2,
   "metadata": {},
   "outputs": [],
   "source": [
    "import threading\n",
    "import time\n",
    "import logging"
   ]
  },
  {
   "cell_type": "code",
   "execution_count": 3,
   "metadata": {},
   "outputs": [],
   "source": [
    "logging.basicConfig(filename='logged_thread_test.log', level=logging.INFO)"
   ]
  },
  {
   "cell_type": "markdown",
   "metadata": {},
   "source": [
    "## Task 1: Basic Thread Creation and Destruction"
   ]
  },
  {
   "cell_type": "code",
   "execution_count": null,
   "metadata": {},
   "outputs": [],
   "source": [
    "def thread_task():\n",
    "    pass\n",
    "\n",
    "#TODO: Create a plot showing how the time increases per thread count\n",
    "def test_thread_creation(num_threads: int) -> None:\n",
    "    \"\"\"This function tests the creation and destruction of threads in Python.\n",
    "    :param num_threads: The number of threads to be created and destroyed.\n",
    "    \"\"\"\n",
    "    start_time = time.time()\n",
    "    list_of_threads = []\n",
    "\n",
    "    for _ in range(num_threads):\n",
    "        # creating the thread\n",
    "        thread = threading.Thread(target=thread_task)\n",
    "        list_of_threads.append(thread)\n",
    "        thread.start()\n",
    "\n",
    "    for thread in list_of_threads:\n",
    "        thread.join()\n",
    "\n",
    "    end_time = time.time()\n",
    "    # calculating the time for the thread creation and deletion\n",
    "    duration = end_time - start_time\n",
    "    print(f\"Thread creation and destruction for {num_threads} threads took {duration:.4f} seconds\")\n",
    "    logging.info(f\"Thread Creation Test: {num_threads} threads, Duration: {duration:.4f} secconds\")"
   ]
  },
  {
   "cell_type": "markdown",
   "metadata": {},
   "source": [
    "## Test 2: CPU-bound tasks"
   ]
  },
  {
   "cell_type": "code",
   "execution_count": 1,
   "metadata": {},
   "outputs": [],
   "source": [
    "def cpu_bound_task():\n",
    "    n = 50000\n",
    "    while n > 1:\n",
    "        n -= 1\n",
    "\n",
    "def test_cpu_bound(num_threads):\n",
    "    threads = []\n",
    "    start_time = time.time()\n",
    "    \n",
    "    for _ in range(num_threads):\n",
    "        t = threading.Thread(target=cpu_bound_task)\n",
    "        threads.append(t)\n",
    "        t.start()\n",
    "    \n",
    "    for t in threads:\n",
    "        t.join()\n",
    "    \n",
    "    end_time = time.time()\n",
    "    duration = end_time - start_time\n",
    "    print(f\"CPU-bound task with {num_threads} threads took {duration:.4f} seconds.\")\n",
    "    logging.info(f\"CPU-bound Test: {num_threads} threads, Duration: {duration:.4f} seconds\")\n",
    "    return duration"
   ]
  },
  {
   "cell_type": "markdown",
   "metadata": {},
   "source": [
    "## Test 3: I/O-bound Tasks"
   ]
  },
  {
   "cell_type": "code",
   "execution_count": 2,
   "metadata": {},
   "outputs": [],
   "source": [
    "def io_bound_task():\n",
    "    time.sleep(0.5)\n",
    "\n",
    "def test_io_bound(num_threads):\n",
    "    threads = []\n",
    "    start_time = time.time()\n",
    "    \n",
    "    for _ in range(num_threads):\n",
    "        t = threading.Thread(target=io_bound_task)\n",
    "        threads.append(t)\n",
    "        t.start()\n",
    "    \n",
    "    for t in threads:\n",
    "        t.join()\n",
    "    \n",
    "    end_time = time.time()\n",
    "    duration = end_time - start_time\n",
    "    print(f\"I/O-bound task with {num_threads} threads took {duration:.4f} seconds.\")\n",
    "    logging.info(f\"I/O-bound Test: {num_threads} threads, Duration: {duration:.4f} seconds\")\n",
    "    return duration"
   ]
  },
  {
   "cell_type": "code",
   "execution_count": null,
   "metadata": {},
   "outputs": [],
   "source": []
  }
 ],
 "metadata": {
  "kernelspec": {
   "display_name": "Python 3",
   "language": "python",
   "name": "python3"
  },
  "language_info": {
   "codemirror_mode": {
    "name": "ipython",
    "version": 3
   },
   "file_extension": ".py",
   "mimetype": "text/x-python",
   "name": "python",
   "nbconvert_exporter": "python",
   "pygments_lexer": "ipython3",
   "version": "3.12.4"
  }
 },
 "nbformat": 4,
 "nbformat_minor": 2
}
