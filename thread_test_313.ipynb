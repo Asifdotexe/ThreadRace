{
 "cells": [
  {
   "cell_type": "markdown",
   "metadata": {},
   "source": [
    "# Testing multithreading for Python version `3.13.0`"
   ]
  },
  {
   "cell_type": "code",
   "execution_count": 1,
   "metadata": {},
   "outputs": [
    {
     "name": "stdout",
     "output_type": "stream",
     "text": [
      "Python 3.13.0\n"
     ]
    }
   ],
   "source": [
    "!python --version"
   ]
  },
  {
   "cell_type": "code",
   "execution_count": 25,
   "metadata": {},
   "outputs": [],
   "source": [
    "import time\n",
    "import threading\n",
    "import logging\n",
    "import json"
   ]
  },
  {
   "cell_type": "code",
   "execution_count": 11,
   "metadata": {},
   "outputs": [],
   "source": [
    "logging.basicConfig(filename='313_thread_test.log')"
   ]
  },
  {
   "cell_type": "markdown",
   "metadata": {},
   "source": [
    "## Test 1: Thread creation and destruction"
   ]
  },
  {
   "cell_type": "code",
   "execution_count": 12,
   "metadata": {},
   "outputs": [],
   "source": [
    "def thread_task():\n",
    "    pass\n",
    "\n",
    "#TODO: Create a plot showing how the time increases per thread count\n",
    "def test_thread_creation(num_threads: int) -> None:\n",
    "    \"\"\"This function tests the creation and destruction of threads in Python.\n",
    "    :param num_threads: The number of threads to be created and destroyed.\n",
    "    \"\"\"\n",
    "    start_time = time.time()\n",
    "    list_of_threads = []\n",
    "\n",
    "    for _ in range(num_threads):\n",
    "        # creating the thread\n",
    "        thread = threading.Thread(target=thread_task)\n",
    "        list_of_threads.append(thread)\n",
    "        thread.start()\n",
    "\n",
    "    for thread in list_of_threads:\n",
    "        thread.join()\n",
    "\n",
    "    end_time = time.time()\n",
    "    # calculating the time for the thread creation and deletion\n",
    "    duration = end_time - start_time\n",
    "    print(f\"Thread creation and destruction for {num_threads} threads took {duration:.4f} seconds\")\n",
    "    logging.info(f\"Thread Creation Test: {num_threads} threads, Duration: {duration:.4f} secconds\")"
   ]
  },
  {
   "cell_type": "markdown",
   "metadata": {},
   "source": [
    "## Test 2: CPU-bound tasks"
   ]
  },
  {
   "cell_type": "code",
   "execution_count": 17,
   "metadata": {},
   "outputs": [],
   "source": [
    "def cpu_bound_task():\n",
    "    n = 50000\n",
    "    while n > 1:\n",
    "        n -= 1\n",
    "\n",
    "def test_cpu_bound(num_threads):\n",
    "    threads = []\n",
    "    start_time = time.time()\n",
    "    \n",
    "    for _ in range(num_threads):\n",
    "        t = threading.Thread(target=cpu_bound_task)\n",
    "        threads.append(t)\n",
    "        t.start()\n",
    "    \n",
    "    for t in threads:\n",
    "        t.join()\n",
    "    \n",
    "    end_time = time.time()\n",
    "    duration = end_time - start_time\n",
    "    print(f\"CPU-bound task with {num_threads} threads took {duration:.4f} seconds.\")\n",
    "    logging.info(f\"CPU-bound Test: {num_threads} threads, Duration: {duration:.4f} seconds\")\n",
    "    return duration"
   ]
  },
  {
   "cell_type": "markdown",
   "metadata": {},
   "source": [
    "## Test 3: I/O-bound Tasks"
   ]
  },
  {
   "cell_type": "code",
   "execution_count": 18,
   "metadata": {},
   "outputs": [],
   "source": [
    "def io_bound_task():\n",
    "    time.sleep(0.5)\n",
    "\n",
    "def test_io_bound(num_threads):\n",
    "    threads = []\n",
    "    start_time = time.time()\n",
    "    \n",
    "    for _ in range(num_threads):\n",
    "        t = threading.Thread(target=io_bound_task)\n",
    "        threads.append(t)\n",
    "        t.start()\n",
    "    \n",
    "    for t in threads:\n",
    "        t.join()\n",
    "    \n",
    "    end_time = time.time()\n",
    "    duration = end_time - start_time\n",
    "    print(f\"I/O-bound task with {num_threads} threads took {duration:.4f} seconds.\")\n",
    "    logging.info(f\"I/O-bound Test: {num_threads} threads, Duration: {duration:.4f} seconds\")\n",
    "    return duration"
   ]
  },
  {
   "cell_type": "markdown",
   "metadata": {},
   "source": [
    "## Test 4: Mixed Workload (I/O + CPU-bound Tasks)"
   ]
  },
  {
   "cell_type": "code",
   "execution_count": 19,
   "metadata": {},
   "outputs": [],
   "source": [
    "def mixed_task():\n",
    "    # Simulate I/O\n",
    "    time.sleep(0.2)\n",
    "    # Simulate CPU-bound task\n",
    "    n = 10000\n",
    "    while n > 0:\n",
    "        n -= 1\n",
    "\n",
    "def test_mixed_task(num_threads):\n",
    "    threads = []\n",
    "    start_time = time.time()\n",
    "    \n",
    "    for _ in range(num_threads):\n",
    "        t = threading.Thread(target=mixed_task)\n",
    "        threads.append(t)\n",
    "        t.start()\n",
    "    \n",
    "    for t in threads:\n",
    "        t.join()\n",
    "    \n",
    "    end_time = time.time()\n",
    "    duration = end_time - start_time\n",
    "    print(f\"Mixed task with {num_threads} threads took {duration:.4f} seconds.\")\n",
    "    logging.info(f\"Mixed Task Test: {num_threads} threads, Duration: {duration:.4f} seconds\")\n",
    "    return duration"
   ]
  },
  {
   "cell_type": "code",
   "execution_count": 20,
   "metadata": {},
   "outputs": [],
   "source": [
    "def run_and_log_tests(num_threads_list):\n",
    "    results = {\"num_threads\": [], \"test_type\": [], \"duration\": []}\n",
    "\n",
    "    for num_threads in num_threads_list:\n",
    "        # Test Thread Creation\n",
    "        duration = test_thread_creation(num_threads)\n",
    "        results[\"num_threads\"].append(num_threads)\n",
    "        results[\"test_type\"].append(\"Thread Creation\")\n",
    "        results[\"duration\"].append(duration)\n",
    "\n",
    "        # Test CPU-bound\n",
    "        duration = test_cpu_bound(num_threads)\n",
    "        results[\"num_threads\"].append(num_threads)\n",
    "        results[\"test_type\"].append(\"CPU-bound\")\n",
    "        results[\"duration\"].append(duration)\n",
    "\n",
    "        # Test I/O-bound\n",
    "        duration = test_io_bound(num_threads)\n",
    "        results[\"num_threads\"].append(num_threads)\n",
    "        results[\"test_type\"].append(\"I/O-bound\")\n",
    "        results[\"duration\"].append(duration)\n",
    "\n",
    "        # Test Mixed Task\n",
    "        duration = test_mixed_task(num_threads)\n",
    "        results[\"num_threads\"].append(num_threads)\n",
    "        results[\"test_type\"].append(\"Mixed Task\")\n",
    "        results[\"duration\"].append(duration)\n",
    "    \n",
    "    return results"
   ]
  },
  {
   "cell_type": "markdown",
   "metadata": {},
   "source": [
    "Rationale for Each Choice:\n",
    "\n",
    "* 1 Thread:\n",
    "Baseline comparison. Running tasks single-threaded shows how Python performs without multithreading, acting as a control for comparing thread management overhead.\n",
    "\n",
    "* 2 Threads:\n",
    "This will help measure if there is an immediate improvement with just 2 threads, often useful for applications that rely on simple parallelism (e.g., dual-core systems).\n",
    "* 4 Threads:\n",
    "This represents a common setup for many consumer-grade CPUs (quad-core systems). It’s useful to see how well Python manages a moderate number of threads.\n",
    "* 8 Threads:\n",
    "For more modern machines that typically have 8 threads, this will show performance scaling on hardware like octa-core processors or hyper-threaded quad-core CPUs.\n",
    "* 16 Threads:\n",
    "Testing scalability with more threads helps in understanding Python's efficiency in handling high levels of concurrency, especially on multi-core systems.\n",
    "* 32 Threads:\n",
    "High-end desktop or server-grade hardware can support 32 threads or more. This helps test the upper bounds of thread management.\n",
    "* 64 Threads:\n",
    "On powerful machines with high core counts (like cloud VMs or high-performance servers), testing at this level highlights Python’s thread-handling capabilities in more extreme scenarios.\n",
    "* 128 Threads:\n",
    "This is primarily for understanding how Python handles an exceptionally high number of threads, which may start to show limitations or overhead due to thread management."
   ]
  },
  {
   "cell_type": "code",
   "execution_count": 21,
   "metadata": {},
   "outputs": [
    {
     "name": "stdout",
     "output_type": "stream",
     "text": [
      "Thread creation and destruction for 1 threads took 0.0008 seconds\n",
      "CPU-bound task with 1 threads took 0.0068 seconds.\n",
      "I/O-bound task with 1 threads took 0.5010 seconds.\n",
      "Mixed task with 1 threads took 0.2033 seconds.\n",
      "Thread creation and destruction for 2 threads took 0.0014 seconds\n",
      "CPU-bound task with 2 threads took 0.0098 seconds.\n",
      "I/O-bound task with 2 threads took 0.5012 seconds.\n",
      "Mixed task with 2 threads took 0.2046 seconds.\n",
      "Thread creation and destruction for 4 threads took 0.0019 seconds\n",
      "CPU-bound task with 4 threads took 0.0221 seconds.\n",
      "I/O-bound task with 4 threads took 0.5020 seconds.\n",
      "Mixed task with 4 threads took 0.2061 seconds.\n",
      "Thread creation and destruction for 8 threads took 0.0033 seconds\n",
      "CPU-bound task with 8 threads took 0.0444 seconds.\n",
      "I/O-bound task with 8 threads took 0.5042 seconds.\n",
      "Mixed task with 8 threads took 0.2131 seconds.\n",
      "Thread creation and destruction for 16 threads took 0.0056 seconds\n",
      "CPU-bound task with 16 threads took 0.0947 seconds.\n",
      "I/O-bound task with 16 threads took 0.5061 seconds.\n",
      "Mixed task with 16 threads took 0.2235 seconds.\n",
      "Thread creation and destruction for 32 threads took 0.0122 seconds\n",
      "CPU-bound task with 32 threads took 0.2033 seconds.\n",
      "I/O-bound task with 32 threads took 0.5108 seconds.\n",
      "Mixed task with 32 threads took 0.2390 seconds.\n",
      "Thread creation and destruction for 64 threads took 0.0179 seconds\n",
      "CPU-bound task with 64 threads took 0.3543 seconds.\n",
      "I/O-bound task with 64 threads took 0.5184 seconds.\n",
      "Mixed task with 64 threads took 0.2821 seconds.\n",
      "Thread creation and destruction for 128 threads took 0.0380 seconds\n",
      "CPU-bound task with 128 threads took 0.7151 seconds.\n",
      "I/O-bound task with 128 threads took 0.5447 seconds.\n",
      "Mixed task with 128 threads took 0.3423 seconds.\n"
     ]
    }
   ],
   "source": [
    "results = run_and_log_tests([1, 2, 4, 8, 16, 32, 64, 128])"
   ]
  },
  {
   "cell_type": "code",
   "execution_count": 31,
   "metadata": {},
   "outputs": [
    {
     "data": {
      "text/plain": [
       "{'num_threads': [1,\n",
       "  1,\n",
       "  1,\n",
       "  1,\n",
       "  2,\n",
       "  2,\n",
       "  2,\n",
       "  2,\n",
       "  4,\n",
       "  4,\n",
       "  4,\n",
       "  4,\n",
       "  8,\n",
       "  8,\n",
       "  8,\n",
       "  8,\n",
       "  16,\n",
       "  16,\n",
       "  16,\n",
       "  16,\n",
       "  32,\n",
       "  32,\n",
       "  32,\n",
       "  32,\n",
       "  64,\n",
       "  64,\n",
       "  64,\n",
       "  64,\n",
       "  128,\n",
       "  128,\n",
       "  128,\n",
       "  128],\n",
       " 'test_type': ['Thread Creation',\n",
       "  'CPU-bound',\n",
       "  'I/O-bound',\n",
       "  'Mixed Task',\n",
       "  'Thread Creation',\n",
       "  'CPU-bound',\n",
       "  'I/O-bound',\n",
       "  'Mixed Task',\n",
       "  'Thread Creation',\n",
       "  'CPU-bound',\n",
       "  'I/O-bound',\n",
       "  'Mixed Task',\n",
       "  'Thread Creation',\n",
       "  'CPU-bound',\n",
       "  'I/O-bound',\n",
       "  'Mixed Task',\n",
       "  'Thread Creation',\n",
       "  'CPU-bound',\n",
       "  'I/O-bound',\n",
       "  'Mixed Task',\n",
       "  'Thread Creation',\n",
       "  'CPU-bound',\n",
       "  'I/O-bound',\n",
       "  'Mixed Task',\n",
       "  'Thread Creation',\n",
       "  'CPU-bound',\n",
       "  'I/O-bound',\n",
       "  'Mixed Task',\n",
       "  'Thread Creation',\n",
       "  'CPU-bound',\n",
       "  'I/O-bound',\n",
       "  'Mixed Task'],\n",
       " 'duration': [None,\n",
       "  0.006839752197265625,\n",
       "  0.5010280609130859,\n",
       "  0.20334339141845703,\n",
       "  None,\n",
       "  0.009836196899414062,\n",
       "  0.5011608600616455,\n",
       "  0.2045879364013672,\n",
       "  None,\n",
       "  0.022116899490356445,\n",
       "  0.5019800662994385,\n",
       "  0.20608043670654297,\n",
       "  None,\n",
       "  0.04443359375,\n",
       "  0.5041563510894775,\n",
       "  0.2130589485168457,\n",
       "  None,\n",
       "  0.09465789794921875,\n",
       "  0.5060644149780273,\n",
       "  0.22354531288146973,\n",
       "  None,\n",
       "  0.20334148406982422,\n",
       "  0.5108356475830078,\n",
       "  0.23900198936462402,\n",
       "  None,\n",
       "  0.35427355766296387,\n",
       "  0.5184147357940674,\n",
       "  0.28213071823120117,\n",
       "  None,\n",
       "  0.7150781154632568,\n",
       "  0.5446581840515137,\n",
       "  0.34232139587402344]}"
      ]
     },
     "execution_count": 31,
     "metadata": {},
     "output_type": "execute_result"
    }
   ],
   "source": [
    "results"
   ]
  },
  {
   "cell_type": "code",
   "execution_count": 32,
   "metadata": {},
   "outputs": [],
   "source": [
    "with open(\"result_313.txt\", \"w\") as file:\n",
    "    json.dump(results, file, indent=4)"
   ]
  }
 ],
 "metadata": {
  "kernelspec": {
   "display_name": "Python 3 (ipykernel)",
   "language": "python",
   "name": "python3"
  },
  "language_info": {
   "codemirror_mode": {
    "name": "ipython",
    "version": 3
   },
   "file_extension": ".py",
   "mimetype": "text/x-python",
   "name": "python",
   "nbconvert_exporter": "python",
   "pygments_lexer": "ipython3",
   "version": "3.13.0"
  }
 },
 "nbformat": 4,
 "nbformat_minor": 4
}
