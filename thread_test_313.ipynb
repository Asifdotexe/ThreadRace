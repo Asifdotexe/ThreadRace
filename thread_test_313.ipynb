{
 "cells": [
  {
   "cell_type": "markdown",
   "metadata": {},
   "source": [
    "# Testing multithreading for Python version `3.13.0`"
   ]
  },
  {
   "cell_type": "code",
   "execution_count": 3,
   "metadata": {},
   "outputs": [
    {
     "name": "stdout",
     "output_type": "stream",
     "text": [
      "Python 3.13.0\n"
     ]
    }
   ],
   "source": [
    "!python --version"
   ]
  },
  {
   "cell_type": "code",
   "execution_count": 25,
   "metadata": {},
   "outputs": [],
   "source": [
    "import time\n",
    "import threading\n",
    "import logging"
   ]
  },
  {
   "cell_type": "code",
   "execution_count": 29,
   "metadata": {},
   "outputs": [],
   "source": [
    "logging.basicConfig(filename='logged_thread_test.log')"
   ]
  },
  {
   "cell_type": "markdown",
   "metadata": {},
   "source": [
    "## [Test #1] Thread creation and destruction"
   ]
  },
  {
   "cell_type": "code",
   "execution_count": 34,
   "metadata": {},
   "outputs": [],
   "source": [
    "def thread_task():\n",
    "    pass\n",
    "\n",
    "#TODO: Create a plot showing how the time increases per thread count\n",
    "def test_thread_creation(num_threads: int):\n",
    "    start_time = time.time()\n",
    "    list_of_threads = []\n",
    "\n",
    "    for _ in range(num_threads):\n",
    "        # creating the thread\n",
    "        thread = threading.Thread(target=thread_task)\n",
    "        list_of_threads.append(thread)\n",
    "        thread.start()\n",
    "\n",
    "    for thread in list_of_threads:\n",
    "        thread.join()\n",
    "\n",
    "    end_time = time.time()\n",
    "    # calculating the time for the thread creation and deletion\n",
    "    duration = end_time - start_time\n",
    "    print(f\"Thread creation and destruction for {num_threads} threads took {duration:.4f} seconds\")\n",
    "    logging.info(f\"Thread Creation Test: {num_threads} threads, Duration: {duration:.4f} secconds\")"
   ]
  }
 ],
 "metadata": {
  "kernelspec": {
   "display_name": "Python 3 (ipykernel)",
   "language": "python",
   "name": "python3"
  },
  "language_info": {
   "codemirror_mode": {
    "name": "ipython",
    "version": 3
   },
   "file_extension": ".py",
   "mimetype": "text/x-python",
   "name": "python",
   "nbconvert_exporter": "python",
   "pygments_lexer": "ipython3",
   "version": "3.13.0"
  }
 },
 "nbformat": 4,
 "nbformat_minor": 4
}
